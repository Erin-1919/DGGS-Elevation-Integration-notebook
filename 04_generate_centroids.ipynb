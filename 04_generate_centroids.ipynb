{
 "cells": [
  {
   "cell_type": "code",
   "execution_count": 2,
   "id": "architectural-singing",
   "metadata": {},
   "outputs": [],
   "source": [
    "library(dggridR)\n",
    "library(rgdal)\n",
    "library(rgeos)\n",
    "library(dplyr)\n",
    "library(geosphere)\n",
    "#library(doParallel)\n",
    "#library(tictoc)"
   ]
  },
  {
   "cell_type": "code",
   "execution_count": 3,
   "id": "consecutive-swaziland",
   "metadata": {},
   "outputs": [
    {
     "name": "stdout",
     "output_type": "stream",
     "text": [
      "   res            cells                area_km      spacing_km          cls_km\n",
      "1    0               12 51006562.1724088713527 7053.6524314108 8199.5003701020\n",
      "2    1               32 17002187.3908029571176 4072.4281300451 4678.9698717297\n",
      "3    2               92  5667395.7969343187287 2351.2174771369 2691.2520709129\n",
      "4    3              272  1889131.9323114396539 1357.4760433484 1551.8675487723\n",
      "5    4              812   629710.6441038132180  783.7391590456  895.6018416484\n",
      "6    5             2432   209903.5480346044060  452.4920144495  517.0049969031\n",
      "7    6             7292    69967.8493448681256  261.2463863485  298.4793231872\n",
      "8    7            21872    23322.6164482893764  150.8306714832  172.3244908961\n",
      "9    8            65612     7774.2054827631255   87.0821287828   99.4910857272\n",
      "10   9           196832     2591.4018275877088   50.2768904944   57.4411078487\n",
      "11  10           590492      863.8006091959029   29.0273762609   33.1636203580\n",
      "12  11          1771472      287.9335363986343   16.7589634981   19.1470215381\n",
      "13  12          5314412       95.9778454662114    9.6757920870   11.0545373459\n",
      "14  13         15943232       31.9926151554038    5.5863211660    6.3823399790\n",
      "15  14         47829692       10.6642050518013    3.2252640290    3.6848456792\n",
      "16  15        143489072        3.5547350172671    1.8621070553    2.1274466399\n",
      "17  16        430467212        1.1849116724224    1.0750880097    1.2282818893\n",
      "18  17       1291401632        0.3949705574741    0.6207023518    0.7091488792\n",
      "19  18       3874204892        0.1316568524914    0.3583626699    0.4094272963\n",
      "20  19      11622614672        0.0438856174971    0.2069007839    0.2363829597\n",
      "21  20      34867844012        0.0146285391657    0.1194542233    0.1364757654\n",
      "22  21     104603532032        0.0048761797219    0.0689669280    0.0787943199\n",
      "23  22     313810596092        0.0016253932406    0.0398180744    0.0454919218\n",
      "24  23     941431788272        0.0005417977469    0.0229889760    0.0262647733\n",
      "25  24    2824295364812        0.0001805992490    0.0132726915    0.0151639739\n",
      "26  25    8472886094432        0.0000601997497    0.0076629920    0.0087549244\n",
      "27  26   25418658283292        0.0000200665832    0.0044242305    0.0050546580\n",
      "28  27   76255974849872        0.0000066888611    0.0025543307    0.0029183081\n",
      "29  28  228767924549612        0.0000022296204    0.0014747435    0.0016848860\n",
      "30  29  686303773648832        0.0000007432068    0.0008514436    0.0009727694\n",
      "31  30 2058911320946492        0.0000002477356    0.0004915812    0.0005616287\n"
     ]
    },
    {
     "data": {
      "text/plain": [
       "NULL"
      ]
     },
     "metadata": {},
     "output_type": "display_data"
    }
   ],
   "source": [
    "dginfo(dgconstruct('ISEA',3,'HEXAGON',30))"
   ]
  },
  {
   "cell_type": "code",
   "execution_count": 4,
   "id": "thick-chapter",
   "metadata": {},
   "outputs": [
    {
     "name": "stdout",
     "output_type": "stream",
     "text": [
      "   res_list cell_size_list vertical_res_list\n",
      "1        16          5e-03                 0\n",
      "2        17          5e-03                 0\n",
      "3        18          3e-03                 0\n",
      "4        19          1e-03                 1\n",
      "5        20          8e-04                 1\n",
      "6        21          6e-04                 2\n",
      "7        22          3e-04                 2\n",
      "8        23          2e-04                 3\n",
      "9        24          1e-04                 3\n",
      "10       25          7e-05                 4\n",
      "11       26          3e-05                 4\n",
      "12       27          2e-05                 5\n",
      "13       28          1e-05                 5\n",
      "14       29          5e-06                 6\n"
     ]
    }
   ],
   "source": [
    "# read arguments, resolution level and grid ID\n",
    "dggs_res = 19\n",
    "\n",
    "# get number of cores, register at the backend\n",
    "# ncores = as.numeric(Sys.getenv(\"SLURM_CPUS_PER_TASK\")) \n",
    "# Shows the number of Parallel Workers to be used\n",
    "# registerDoParallel(cores=ncores)\n",
    "\n",
    "# construct a look-up table, storing resolution and corresponding cell size and vertical resolution\n",
    "res_list = c(16,17,18,19,20,21,22,23,24,25,26,27,28,29)\n",
    "cell_size_list = c(0.005,0.003,0.001,0.0009,0.0008,0.0006,0.0003,0.0002,0.0001,0.00006,0.00003,0.00002,0.00001,0.000005)\n",
    "vertical_res_list = c(0,0,0,1,1,2,2,3,3,4,4,5,5,6)\n",
    "look_up = data.frame(\"res_list\" = res_list,\"cell_size_list\" = cell_size_list,\"vertical_res_list\" = vertical_res_list)\n",
    "\n",
    "print(look_up)\n",
    "\n",
    "# look up cell size and vertical resolution\n",
    "dggs_cellsize = look_up$cell_size_list[look_up$res_list == dggs_res]\n",
    "vertical_res = look_up$vertical_res_list[look_up$res_list == dggs_res]"
   ]
  },
  {
   "cell_type": "code",
   "execution_count": 5,
   "id": "sought-gather",
   "metadata": {},
   "outputs": [],
   "source": [
    "# define DGGS\n",
    "v_lat = 37.6895\n",
    "v_lon = -51.6218\n",
    "azimuth = 360-72.6482\n",
    "DGG = dgconstruct(projection=\"ISEA\", aperture=3, topology=\"HEXAGON\", res=dggs_res, azimuth_deg=azimuth, pole_lat_deg=v_lat, pole_lon_deg=v_lon)"
   ]
  },
  {
   "cell_type": "code",
   "execution_count": 6,
   "id": "elementary-creator",
   "metadata": {
    "scrolled": false
   },
   "outputs": [
    {
     "name": "stderr",
     "output_type": "stream",
     "text": [
      "Warning message in OGRSpatialRef(dsn, layer, morphFromESRI = morphFromESRI, dumpSRS = dumpSRS, :\n",
      "\"Discarded datum D_North_American_1983_CSRS in Proj4 definition: +proj=longlat +ellps=GRS80 +no_defs\"\n"
     ]
    },
    {
     "name": "stdout",
     "output_type": "stream",
     "text": [
      "OGR data source with driver: ESRI Shapefile \n",
      "Source: \"G:\\UCalgary Research\\NRCan_NationalDEM\\Experiment_DEM_Oct\\Workflow_demo\\Data\", layer: \"study_area\"\n",
      "with 1 features\n",
      "It has 1 fields\n",
      "Integer64 fields read as strings:  FID \n",
      "[1] 2116\n",
      "   Cell_address     lon_c    lat_c\n",
      "1    5002019930 -78.34865 44.77498\n",
      "4    5001980564 -78.34630 44.77607\n",
      "6    5001960881 -78.34403 44.77499\n",
      "9    5001921515 -78.34169 44.77608\n",
      "10   5001941199 -78.34176 44.77391\n",
      "11   5001901832 -78.33942 44.77501\n",
      "14   5001882150 -78.33715 44.77393\n",
      "15   5001842783 -78.33481 44.77502\n",
      "18   5001823101 -78.33253 44.77394\n",
      "20   5001783734 -78.33019 44.77503\n"
     ]
    }
   ],
   "source": [
    "# read study area shapefile\n",
    "study_area = readOGR(dsn=\"Data\",layer='study_area')\n",
    "study_area = bbox(study_area[1,])\n",
    "\n",
    "# get study area info\n",
    "minx = study_area[1,1]\n",
    "miny = study_area[2,1]\n",
    "maxx = study_area[1,2]\n",
    "maxy = study_area[2,2]\n",
    "\n",
    "# generate cell centroids \n",
    "coords = matrix(c(minx, miny, maxx, miny, maxx, maxy, maxx, miny, minx, miny), ncol = 2, byrow = TRUE)\n",
    "regbox = Polygon(coords)\n",
    "regbox = SpatialPolygons(list(Polygons(list(regbox), ID = \"a\")))\n",
    "centroids = sp::makegrid(regbox, cellsize = dggs_cellsize)\n",
    "centroids$Cell_address = dgGEO_to_SEQNUM(DGG,centroids$x1, centroids$x2)$seqnum\n",
    "centroids = centroids[!duplicated(centroids$Cell_address),]\n",
    "centroids$lon_c = dgSEQNUM_to_GEO(DGG,centroids$Cell_address)$lon_deg\n",
    "centroids$lat_c = dgSEQNUM_to_GEO(DGG,centroids$Cell_address)$lat_deg\n",
    "centroids = subset(centroids, select = -c(x1,x2) )\n",
    "\n",
    "print(nrow(centroids))\n",
    "print(head(centroids,10))\n",
    "\n",
    "write.csv(centroids,\"Result/centroids.csv\", row.names = FALSE)"
   ]
  },
  {
   "cell_type": "code",
   "execution_count": 7,
   "id": "greenhouse-blocking",
   "metadata": {},
   "outputs": [
    {
     "name": "stdout",
     "output_type": "stream",
     "text": [
      "[1] \"Create hexagonal grids successfully!\"\n"
     ]
    }
   ],
   "source": [
    "# create hexagons in shapefile\n",
    "grid =dgrectgrid(DGG, minlat = miny, minlon = minx, maxlat = maxy, maxlon = maxx, cellsize = dggs_cellsize, frame=FALSE)\n",
    "centroids = centroid(grid)\n",
    "grid = as(grid, \"SpatialPolygonsDataFrame\")\n",
    "grid@data$dummy = dgGEO_to_SEQNUM(DGG,centroids[,1], centroids[,2])$seqnum\n",
    "writeOGR(grid, \"Result\", layer = \"hexagon_grids\", driver='ESRI Shapefile')\n",
    "\n",
    "print('Create hexagonal grids successfully!')"
   ]
  },
  {
   "cell_type": "code",
   "execution_count": 8,
   "id": "determined-payday",
   "metadata": {},
   "outputs": [
    {
     "name": "stdout",
     "output_type": "stream",
     "text": [
      "OGR data source with driver: ESRI Shapefile \n",
      "Source: \"G:\\UCalgary Research\\NRCan_NationalDEM\\Experiment_DEM_Oct\\Workflow_demo\\Result\", layer: \"hexagon_grids\"\n",
      "with 2116 features\n",
      "It has 1 fields\n"
     ]
    },
    {
     "data": {
      "image/png": "[encoded data removed]",
      "text/plain": [
       "plot without title"
      ]
     },
     "metadata": {
      "image/png": {
       "height": 420,
       "width": 420
      }
     },
     "output_type": "display_data"
    }
   ],
   "source": [
    "# plot hexagon_grids\n",
    "library(ggplot2)\n",
    "hexagon_grids = readOGR(dsn=\"Result\",layer=\"hexagon_grids\")\n",
    "hexagon_grids@data$seq_id <- seq(1:nrow(hexagon_grids@data))\n",
    "hexagon_grids@data$id <- rownames(hexagon_grids@data)\n",
    "hexagon_grids_data <- fortify(hexagon_grids, region = \"id\")\n",
    "hexagon_grids_df <- merge(hexagon_grids_data, hexagon_grids@data, by = \"id\")\n",
    "\n",
    "ggplot(data = hexagon_grids_df, aes(x = long, y = lat, group = group)) +\n",
    "    geom_polygon(size=1, fill=NA, alpha=0.3, color=\"gray15\") + \n",
    "    xlab('')+ylab('')+\n",
    "    theme(axis.ticks.x=element_blank())+\n",
    "    theme(axis.ticks.y=element_blank())+\n",
    "    theme(axis.text.x=element_blank())+\n",
    "    theme(axis.text.y=element_blank())+\n",
    "    theme(panel.background = element_blank())"
   ]
  }
 ],
 "metadata": {
  "kernelspec": {
   "display_name": "R",
   "language": "R",
   "name": "ir"
  },
  "language_info": {
   "codemirror_mode": "r",
   "file_extension": ".r",
   "mimetype": "text/x-r-source",
   "name": "R",
   "pygments_lexer": "r",
   "version": "3.6.2"
  }
 },
 "nbformat": 4,
 "nbformat_minor": 5
}
